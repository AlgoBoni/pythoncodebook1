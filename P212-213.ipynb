{
 "cells": [
  {
   "cell_type": "code",
   "execution_count": 220,
   "id": "lightweight-eagle",
   "metadata": {
    "id": "lesser-sponsorship",
    "outputId": "e7ec1ac7-fd0a-46cd-ea0c-f3a3ae80ce7d"
   },
   "outputs": [
    {
     "name": "stdout",
     "output_type": "stream",
     "text": [
      "full model = const, bp, bmi, age, sex\n",
      " 수정 결정계수: 0.376\n",
      " AIC: 3293.9\n",
      " BIC: 3312.4\n",
      " Cp 5.0 -> 변수+상수 개수의 합 5.0\n"
     ]
    }
   ],
   "source": [
    "# 모든 변수를 포함한 full model\n",
    "print(\"full model = const, bp, bmi, age, sex\")\n",
    "R2 = fitted.rsquared\n",
    "n = fitted.nobs #number of observations\n",
    "p = fitted.df_model #설명변수의 개수\n",
    "constant = 'const' in fitted.params.keys() #절편 유무\n",
    "SSE = sum((fitted.resid)**2) #full model의 잔차제곱합\n",
    "MSE = SSE / (n-p-1) # fitted.mse_resid (MSE)\n",
    "\n",
    "adj_R2 = 1- (1-R2)*(n-1)/(n-p-1)\n",
    "print(\" 수정 결정계수: {:.3f}\".format(adj_R2))\n",
    "\n",
    "llf = -n/2*np.log(2*np.pi) - n/2*np.log(SSE / n) - n/2 #로그 가능도 값\n",
    "aic = -2*llf + 2*(p + constant)\n",
    "bic = -2*llf + np.log(n)*(p + constant)\n",
    "print(\" AIC: {:.1f}\".format(aic))\n",
    "print(\" BIC: {:.1f}\".format(bic))\n",
    "\n",
    "cp = SSE/MSE - n + 2*(p+1)\n",
    "print(\" Cp {:.1f} -> 변수+상수 개수의 합 {}\".format(cp, p+constant))"
   ]
  },
  {
   "cell_type": "code",
   "execution_count": 222,
   "id": "southeast-lottery",
   "metadata": {},
   "outputs": [
    {
     "name": "stdout",
     "output_type": "stream",
     "text": [
      "후보 model = const, bp, bmi\n",
      " 수정 결정계수: 0.380\n",
      " AIC: 3293.0\n",
      " BIC: 3304.1\n",
      " Cp 4.1 -> 변수+상수 개수의 합 3.0\n"
     ]
    }
   ],
   "source": [
    "# 일부 변수만 포함한 후보 model\n",
    "print(\"후보 model = const, bp, bmi\")\n",
    "fitted2, summary2 = multiR_fitted(X.filter(['bp', 'bmi']), y)\n",
    "n = fitted2.nobs #number of observations\n",
    "p = fitted2.df_model #설명변수의 개수\n",
    "constant = 'const' in fitted2.params.keys() #절편 유무\n",
    "SSE = sum((fitted2.resid)**2) #full model의 잔차제곱합\n",
    "MSE = fitted.mse_resid # 비교모델의 MSE가 아닌 full모델의 MSE\n",
    "\n",
    "adj_R2 = 1- (1-R2)*(n-1)/(n-p-1)\n",
    "print(\" 수정 결정계수: {:.3f}\".format(adj_R2))\n",
    "\n",
    "llf = -n/2*np.log(2*np.pi) - n/2*np.log(SSE / n) - n/2 #로그 가능도 값\n",
    "aic = -2*llf + 2*(p + constant)\n",
    "bic = -2*llf + np.log(n)*(p + constant)\n",
    "print(\" AIC: {:.1f}\".format(aic))\n",
    "print(\" BIC: {:.1f}\".format(bic))\n",
    "\n",
    "cp = SSE/MSE - n + 2*(p+1)\n",
    "print(\" Cp {:.1f} -> 변수+상수 개수의 합 {}\".format(cp, p+constant))"
   ]
  },
  {
   "cell_type": "code",
   "execution_count": 208,
   "id": "informative-organizer",
   "metadata": {
    "id": "regulation-disease"
   },
   "outputs": [],
   "source": [
    "## 단계적 선택법\n",
    "from pandas import DataFrame\n",
    "import statsmodels.api as sm\n",
    "from itertools import combinations\n",
    "import numpy as np\n",
    "def stepwise_method(X, y, criterion='AIC'): #'BIC', 'CP', 'adj_R2'\n",
    "    result = DataFrame()\n",
    "    feature_combis = [] #변수 조합의 모든 경우의 수\n",
    "    for i in range(1, len(X.columns)+1):\n",
    "        feature_combis += list(combinations(X.columns, i))\n",
    "        feature_combis.reverse() #p개수 내림차순\n",
    "    feature_combis = [feature_combi for feature_combi in feature_combis if 'const' in feature_combi]\n",
    "    \n",
    "    for j, feature_combi in enumerate(feature_combis):\n",
    "        X_ = X.filter(feature_combi)\n",
    "        X_ = sm.add_constant(X_) #절편 추가\n",
    "        model = sm.OLS(y, X_)\n",
    "        fitted = model.fit() #모델 적합\n",
    "        n = fitted.nobs #number of observations\n",
    "        p = fitted.df_model #설명변수의 개수\n",
    "        if j==0:\n",
    "            MSE = fitted.mse_resid # full모델의 MSE\n",
    "        \n",
    "        #각 기준값 계산\n",
    "        aic = fitted.aic\n",
    "        bic = fitted.bic\n",
    "        cp = sum((fitted.resid)**2)/MSE - (n-2*(p+1))\n",
    "        adj_R2 = fitted.rsquared_adj\n",
    "        \n",
    "        #각 기준값 입력\n",
    "        result.loc[j, 'feature_combi'] = str(feature_combi)\n",
    "        result.loc[j, 'AIC'] = aic\n",
    "        result.loc[j, 'BIC'] = bic\n",
    "        result.loc[j, 'CP'] = cp\n",
    "        result.loc[j, 'adj_R2'] = adj_R2\n",
    "        \n",
    "        if criterion in ['AIC', 'BIC']: #낮을수록 Best\n",
    "            result = result.sort_values(by=criterion, ascending = True)\n",
    "            best = result.iloc[0, 0]\n",
    "        elif criterion in ['adj_R2']: #높을수록 Best\n",
    "            result = result.sort_values(by=criterion, ascending = False)\n",
    "            best = result.iloc[0, 0]\n",
    "        elif criterion in ['CP']: #CP값이 작고, 변수의 개수와 유사할수록 Best\n",
    "            best_idx = np.abs(result['CP']-result['feature_combi'].apply(lambda x: x.count(',')+1)).sort_values(ascending=True).index\n",
    "            result = result.loc[best_idx, :]\n",
    "            best = result.iloc[0, 0]\n",
    "        else:\n",
    "            print(\"criterion options only cover AIC, BIC, CP, adj_R2.\")\n",
    "    return best, result"
   ]
  },
  {
   "cell_type": "code",
   "execution_count": 214,
   "id": "undefined-algorithm",
   "metadata": {
    "id": "stuffed-evening",
    "outputId": "21f0f13c-ab6f-4a37-8f18-1b6058cfc9f6",
    "tags": []
   },
   "outputs": [
    {
     "name": "stdout",
     "output_type": "stream",
     "text": [
      "최적의 변수 조합:  ('const', 'bmi', 'sex', 'bp')\n",
      "전체 결과값: \n",
      "                           feature_combi          AIC          BIC  \\\n",
      "14         ('const', 'bmi', 'sex', 'bp')  3292.208500  3307.023630   \n",
      "4                 ('const', 'bmi', 'bp')  3293.035334  3304.146682   \n",
      "0   ('const', 'bmi', 'age', 'sex', 'bp')  3293.858436  3312.377348   \n",
      "13         ('const', 'bmi', 'age', 'bp')  3294.846640  3309.661769   \n",
      "6                ('const', 'bmi', 'age')  3317.277536  3328.388883   \n",
      "12        ('const', 'bmi', 'age', 'sex')  3318.685967  3333.501097   \n",
      "8                       ('const', 'bmi')  3320.067627  3327.475192   \n",
      "5                ('const', 'bmi', 'sex')  3321.899726  3333.011073   \n",
      "11                       ('const', 'bp')  3373.619344  3381.026909   \n",
      "2                 ('const', 'age', 'bp')  3374.170926  3385.282274   \n",
      "1                 ('const', 'sex', 'bp')  3374.572580  3385.683927   \n",
      "15         ('const', 'age', 'sex', 'bp')  3374.858386  3389.673516   \n",
      "9                       ('const', 'age')  3418.167766  3425.575331   \n",
      "3                ('const', 'age', 'sex')  3420.108606  3431.219953   \n",
      "7                             ('const',)  3431.238159  3434.941942   \n",
      "10                      ('const', 'sex')  3432.382171  3439.789736   \n",
      "\n",
      "            CP    adj_R2  \n",
      "14    3.344431  0.377087  \n",
      "4     4.140550  0.373307  \n",
      "0     5.000000  0.375704  \n",
      "13    5.953083  0.371585  \n",
      "6    29.232655  0.320563  \n",
      "12   30.595901  0.319611  \n",
      "8    32.435124  0.311944  \n",
      "5    34.251360  0.310014  \n",
      "11   96.621111  0.177477  \n",
      "2    96.730081  0.178683  \n",
      "1    97.253558  0.177583  \n",
      "15   97.024319  0.179506  \n",
      "9   159.474527  0.045802  \n",
      "3   161.384716  0.042778  \n",
      "7   180.939572  0.000000  \n",
      "10  181.574965 -0.000497  \n",
      "\n",
      "기준 AIC에 의한 최적의 변수 조합 ('const', 'bmi', 'sex', 'bp')\n",
      "기준 BIC에 의한 최적의 변수 조합 ('const', 'bmi', 'bp')\n",
      "기준 CP에 의한 최적의 변수 조합 ('const', 'bmi', 'age', 'sex', 'bp')\n",
      "기준 adj_R2에 의한 최적의 변수 조합 ('const', 'bmi', 'sex', 'bp')\n"
     ]
    }
   ],
   "source": [
    "# AIC 기준으로 단계적 선택법을 통한 최적의 변수 선택 결과는 다음과 같다.\n",
    "best, result = stepwise_method(X, y, criterion='AIC')\n",
    "print(\"최적의 변수 조합: \", best)\n",
    "print(f\"전체 결과값: \\n{result}\\n\")\n",
    "\n",
    "for c in ['AIC', 'BIC', 'CP', 'adj_R2']:\n",
    "    best, result = stepwise_method(X, y, c)\n",
    "    print(f\"기준 {c}에 의한 최적의 변수 조합 {best}\")"
   ]
  }
 ],
 "metadata": {
  "colab": {
   "provenance": [],
   "toc_visible": true
  },
  "kernelspec": {
   "display_name": "Python 3",
   "language": "python",
   "name": "python3"
  },
  "language_info": {
   "codemirror_mode": {
    "name": "ipython",
    "version": 3
   },
   "file_extension": ".py",
   "mimetype": "text/x-python",
   "name": "python",
   "nbconvert_exporter": "python",
   "pygments_lexer": "ipython3",
   "version": "3.8.8"
  },
  "toc-showtags": true
 },
 "nbformat": 4,
 "nbformat_minor": 5
}
